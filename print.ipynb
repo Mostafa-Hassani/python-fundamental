{
 "cells": [
  {
   "cell_type": "markdown",
   "metadata": {},
   "source": [
    "I will work on print command"
   ]
  },
  {
   "cell_type": "code",
   "execution_count": 1,
   "metadata": {},
   "outputs": [
    {
     "name": "stdout",
     "output_type": "stream",
     "text": [
      "This is just a message\n"
     ]
    }
   ],
   "source": [
    "print(\"This is just a message\")"
   ]
  },
  {
   "cell_type": "code",
   "execution_count": 2,
   "metadata": {},
   "outputs": [
    {
     "name": "stdout",
     "output_type": "stream",
     "text": [
      "The sum of a and b:  10\n",
      "The difference of a and b:  4\n",
      "The product of a and b:  21\n",
      "The division of a and b:  2.3333333333333335\n",
      "The quotient of a divided by b:  2\n",
      "The Remainder of a divided by b:  1\n",
      "The power of a and b:  343\n"
     ]
    }
   ],
   "source": [
    "a=7\n",
    "b=3\n",
    "print(\"The sum of a and b: \", a+b)\n",
    "print(\"The difference of a and b: \", a-b)\n",
    "print(\"The product of a and b: \", a*b)\n",
    "print(\"The division of a and b: \", a/b)\n",
    "print(\"The quotient of a divided by b: \", a//b)\n",
    "print(\"The Remainder of a divided by b: \", a%b)\n",
    "print(\"The power of a and b: \", a**b)"
   ]
  },
  {
   "cell_type": "code",
   "execution_count": 22,
   "metadata": {},
   "outputs": [
    {
     "name": "stdout",
     "output_type": "stream",
     "text": [
      "a=10, b=3\n",
      "print string with 20 character length |Print methods       |.\n",
      "print with order day, week, month.\n",
      "print with order month, day, week.\n",
      "print with order week, month, day.\n"
     ]
    }
   ],
   "source": [
    "result=a+b\n",
    "print(f\"a={a}, b={b}\")\n",
    "\n",
    "str=\"Print methods\"\n",
    "print(\"print string with 20 character length |{:20s}|.\".format(str))\n",
    "print(\"print with order {}, {}, {}.\".format(\"day\",\"week\",\"month\"))\n",
    "print(\"print with order {2}, {0}, {1}.\".format(\"day\",\"week\",\"month\"))\n",
    "print(\"print with order {w}, {m}, {d}.\".format(d=\"day\",w=\"week\",m=\"month\"))"
   ]
  },
  {
   "cell_type": "code",
   "execution_count": 16,
   "metadata": {},
   "outputs": [
    {
     "name": "stdout",
     "output_type": "stream",
     "text": [
      "Welcome Mostafa.\n",
      "Age is 40\n",
      "Age in octal is 50\n",
      "Age in Hexadecimal is 28\n",
      "Age in exp is 4.000000e+01\n",
      "PI with 5 decimal places is 3.14159\n"
     ]
    }
   ],
   "source": [
    "name = 'Mostafa'\n",
    "age = 40\n",
    "pi = 3.14159265359\n",
    "print(\"Welcome %s.\"%name)\n",
    "print(\"Age is %d\"%age)\n",
    "print(\"Age in octal is %o\"%age)\n",
    "print(\"Age in Hexadecimal is %x\"%age)\n",
    "print(\"Age in EXP is %e\"%age)\n",
    "print(\"PI with 5 decimal places is %.5f\"%pi)"
   ]
  },
  {
   "cell_type": "code",
   "execution_count": 21,
   "metadata": {},
   "outputs": [
    {
     "name": "stdout",
     "output_type": "stream",
     "text": [
      "|3.142|3.142     |  3.142   |     3.142|\n"
     ]
    }
   ],
   "source": [
    "print(\"|{:.3f}|{:<10.3f}|{:^10.3f}|{:10.3f}|\".format(pi,pi,pi,pi))\n"
   ]
  }
 ],
 "metadata": {
  "kernelspec": {
   "display_name": "Python 3",
   "language": "python",
   "name": "python3"
  },
  "language_info": {
   "codemirror_mode": {
    "name": "ipython",
    "version": 3
   },
   "file_extension": ".py",
   "mimetype": "text/x-python",
   "name": "python",
   "nbconvert_exporter": "python",
   "pygments_lexer": "ipython3",
   "version": "3.12.6"
  }
 },
 "nbformat": 4,
 "nbformat_minor": 2
}
